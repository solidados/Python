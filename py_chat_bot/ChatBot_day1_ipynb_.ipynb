{
  "nbformat": 4,
  "nbformat_minor": 0,
  "metadata": {
    "colab": {
      "name": "Копия блокнота \"ChatBot_day1.ipynb\"",
      "provenance": [],
      "collapsed_sections": []
    },
    "kernelspec": {
      "name": "python3",
      "display_name": "Python 3"
    },
    "language_info": {
      "name": "python"
    }
  },
  "cells": [
    {
      "cell_type": "code",
      "metadata": {
        "id": "Ce9dqRzBBRO6"
      },
      "source": [
        "import random\n",
        "import nltk"
      ],
      "execution_count": null,
      "outputs": []
    },
    {
      "cell_type": "markdown",
      "metadata": {
        "id": "M-RPT1P0w5tL"
      },
      "source": [
        "## **Строки, списки и словари**"
      ]
    },
    {
      "cell_type": "markdown",
      "metadata": {
        "id": "_d6RPOu4BHet"
      },
      "source": [
        "## **День 1**"
      ]
    },
    {
      "cell_type": "code",
      "metadata": {
        "id": "WsGBscohw_yj"
      },
      "source": [
        "## Создаю бот-переменную, в которой буду хранить всю память моего бота – всю информацию, которая ему понадобится для работы\n",
        "## Структурирую переменную в виде \"словаря\"\n",
        "BOT_CONFIG = {\n",
        "    'intents': {\n",
        "        'hello': {\n",
        "            'examples': ['Hello', 'Привет', 'Hi!', 'Здравствуйте'],\n",
        "            'responses': ['Добрый день', 'Здравия желаю', 'Добрый вечер']\n",
        "            },\n",
        "        'bye': {\n",
        "            'examples': ['пОкА', 'До свидания', 'Увидимся'],\n",
        "            'responses': ['До связи', 'Саёнара', 'Чао']\n",
        "            },\n",
        "        'howdoyoudo': {\n",
        "            'examples': ['как дела?', 'как жизнь?'],\n",
        "            'responses': ['всё хорошо', 'Спасибо, хорошо', 'Не жалуюсь']\n",
        "            }\n",
        "      },\n",
        "      'not_found': {\n",
        "          'responses': ['Извините, не удалось определить интент', 'Я пока ещё глупый бот и ничего не понимаю']\n",
        "      }\n",
        "}"
      ],
      "execution_count": 1,
      "outputs": []
    },
    {
      "cell_type": "code",
      "metadata": {
        "id": "HjHnKDeHzUJQ"
      },
      "source": [
        "def clean(text):\n",
        "  cleaned_text = ''\n",
        "  for ch in text.lower():\n",
        "    if ch in 'abcdefghijklmnopqrstuvwxyzABCDEFGHIJKLMNOPQRSTUVWXYZ абвгдеёжзийклмнопрстуфхцчшщъыьэюяАБВГДЕЁЖЗИЙКЛМНОПРСТУФХЦЧШЩЪЫЬЭЮЯ':\n",
        "      cleaned_text = cleaned_text + ch\n",
        "  return cleaned_text\n",
        "\n",
        "def get_intent(text):\n",
        "  for intent in BOT_CONFIG['intents'].keys():\n",
        "    for example in BOT_CONFIG['intents'][intent]['examples']:\n",
        "      cleaned_example = clean(example)\n",
        "      cleaned_text = clean(text)\n",
        "      if nltk.edit_distance(cleaned_example, cleaned_text) / max(len(cleaned_example), len(cleaned_text)) < 0.4:\n",
        "        return intent\n",
        "  return 'not_found'\n",
        "\n",
        "def bot(text):\n",
        "  intent = get_intent(text)\n",
        "  if intent != 'not_found':\n",
        "    return random.choice(BOT_CONFIG['intents'][intent]['responses'])\n",
        "  else:\n",
        "    return random.choice(BOT_CONFIG['not_found']['responses'])"
      ],
      "execution_count": null,
      "outputs": []
    },
    {
      "cell_type": "code",
      "metadata": {
        "colab": {
          "base_uri": "https://localhost:8080/"
        },
        "id": "AYhP2dIf69HF",
        "outputId": "8eff401b-7174-42a1-cb3d-ef4433541fea"
      },
      "source": [
        "input_text = ''\n",
        "while input_text != 'exit':\n",
        "  input_text = input() \n",
        "  response = bot(input_text)\n",
        "  print(response)"
      ],
      "execution_count": null,
      "outputs": [
        {
          "output_type": "stream",
          "name": "stdout",
          "text": [
            "привет!!!\n",
            "Здравия желаю\n",
            "Превет\n",
            "Добрый день\n",
            "Hii\n",
            "Здравия желаю\n",
            "exit\n",
            "Извините, не удалось определить интент\n"
          ]
        }
      ]
    }
  ]
}